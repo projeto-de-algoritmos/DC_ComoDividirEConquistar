{
 "cells": [
  {
   "cell_type": "code",
   "execution_count": 1,
   "metadata": {},
   "outputs": [],
   "source": [
    "from matplotlib import pyplot as plt"
   ]
  },
  {
   "cell_type": "code",
   "execution_count": 2,
   "metadata": {},
   "outputs": [],
   "source": [
    "import math\n",
    "import copy\n",
    "\n",
    "class Point():\n",
    "    def __init__(self, x, y):\n",
    "        self.x = x\n",
    "        self.y = y\n",
    "        \n",
    "def dist(p1, p2):\n",
    "    return math.sqrt((p1.x - p2.x) *\n",
    "                     (p1.x - p2.x) +\n",
    "                     (p1.y - p2.y) *\n",
    "                     (p1.y - p2.y))\n",
    "\n",
    "\n",
    "def bruteForce(P, n):\n",
    "    min_val = float('inf')\n",
    "    for i in range(n):\n",
    "        for j in range(i + 1, n):\n",
    "            if dist(P[i], P[j]) < min_val:\n",
    "                min_val = dist(P[i], P[j])\n",
    " \n",
    "    return min_val\n",
    "\n",
    "def stripClosest(strip, size, d):       \n",
    "    min_val = d\n",
    " \n",
    "    for i in range(size):\n",
    "        j = i + 1\n",
    "        while j < size and (strip[j].y -\n",
    "                            strip[i].y) < min_val:\n",
    "            min_val = dist(strip[i], strip[j])\n",
    "            j += 1\n",
    " \n",
    "    return min_val\n",
    " \n",
    "def closestUtil(P, Q, n):\n",
    "    if n <= 3:\n",
    "        return bruteForce(P, n)\n",
    " \n",
    "    mid = n // 2\n",
    "    midPoint = P[mid]\n",
    " \n",
    "    Pl = P[:mid]\n",
    "    Pr = P[mid:]\n",
    " \n",
    "    dl = closestUtil(Pl, Q, mid)\n",
    "    dr = closestUtil(Pr, Q, n - mid)\n",
    " \n",
    "    d = min(dl, dr)\n",
    " \n",
    "    stripP = []\n",
    "    stripQ = []\n",
    "    lr = Pl + Pr\n",
    "    for i in range(n):\n",
    "        if abs(lr[i].x - midPoint.x) < d:\n",
    "            stripP.append(lr[i])\n",
    "        if abs(Q[i].x - midPoint.x) < d:\n",
    "            stripQ.append(Q[i])\n",
    " \n",
    "    stripP.sort(key = lambda point: point.y) #<-- REQUIRED\n",
    "    min_a = min(d, stripClosest(stripP, len(stripP), d))\n",
    "    min_b = min(d, stripClosest(stripQ, len(stripQ), d))\n",
    "    \n",
    "    return min(min_a,min_b)\n",
    " \n",
    "\n",
    "def closest(P, n):\n",
    "    P.sort(key = lambda point: point.x)\n",
    "    Q = copy.deepcopy(P)\n",
    "    Q.sort(key = lambda point: point.y)   \n",
    " \n",
    "    return closestUtil(P, Q, n)\n",
    " \n"
   ]
  },
  {
   "cell_type": "code",
   "execution_count": 3,
   "metadata": {
    "scrolled": false
   },
   "outputs": [
    {
     "name": "stdout",
     "output_type": "stream",
     "text": [
      "digite -1 para uma das entradas para sair do loop\n",
      "digite a posição dos aviões\n",
      "Entradas\n",
      "\n",
      "X:7.2\n",
      "Y:8\n",
      "\n",
      "Entradas\n",
      "\n",
      "X:9\n",
      "Y:7\n",
      "\n",
      "Entradas\n",
      "\n",
      "X:5.1\n",
      "Y:3.7\n",
      "\n",
      "Entradas\n",
      "\n",
      "X:7.5\n",
      "Y:8\n",
      "\n",
      "Entradas\n",
      "\n",
      "X:1.2\n",
      "Y:12\n",
      "\n",
      "Entradas\n",
      "\n",
      "X:12\n",
      "Y:1\n",
      "\n",
      "Entradas\n",
      "\n",
      "X:-1\n"
     ]
    }
   ],
   "source": [
    "P = []\n",
    "\n",
    "# ler entradas\n",
    "print(\"digite -1 para uma das entradas para sair do loop\")\n",
    "print(\"digite a posição dos aviões\")\n",
    "aux1 , aux2 = 0, 0\n",
    "while(1):\n",
    "    print(\"Entradas\")\n",
    "    print()\n",
    "    \n",
    "    \n",
    "    aux1 = float(input(\"X:\"))\n",
    "    if aux1 == -1 or aux2 == -1:\n",
    "        break\n",
    "    aux2 = float(input(\"Y:\"))\n",
    "    if aux1 == -1 or aux2 == -1:\n",
    "        break\n",
    "    \n",
    "    print()\n",
    "    \n",
    "    P.append(Point(aux1, aux2))"
   ]
  },
  {
   "cell_type": "code",
   "execution_count": 4,
   "metadata": {},
   "outputs": [
    {
     "name": "stdout",
     "output_type": "stream",
     "text": [
      "A menor distância é:  0.2999999999999998\n",
      "A distancia entre dois aviões está muito próxima. Favor avisar chefe de controle de tráfego aéreo!!!\n"
     ]
    },
    {
     "data": {
      "image/png": "[encoded data removed]",
      "text/plain": [
       "<Figure size 432x288 with 1 Axes>"
      ]
     },
     "metadata": {
      "needs_background": "light"
     },
     "output_type": "display_data"
    }
   ],
   "source": [
    "n = len(P)\n",
    "\n",
    "distancia = closest(P, n)\n",
    "print(\"A menor distância é: \", distancia)\n",
    "\n",
    "if distancia < 2:\n",
    "    print(\"A distancia entre dois aviões está muito próxima. Favor avisar chefe de controle de tráfego aéreo!!!\")\n",
    "\n",
    "\n",
    "for i in P:\n",
    "    plt.plot(i.x, i.y,'o')\n",
    "\n",
    "plt.axis([0, 15, 0, 15])\n",
    "plt.show()"
   ]
  }
 ],
 "metadata": {
  "kernelspec": {
   "display_name": "Python 3",
   "language": "python",
   "name": "python3"
  },
  "language_info": {
   "codemirror_mode": {
    "name": "ipython",
    "version": 3
   },
   "file_extension": ".py",
   "mimetype": "text/x-python",
   "name": "python",
   "nbconvert_exporter": "python",
   "pygments_lexer": "ipython3",
   "version": "3.8.5"
  }
 },
 "nbformat": 4,
 "nbformat_minor": 5
}
