{
 "cells": [
  {
   "cell_type": "code",
   "execution_count": 1,
   "source": [
    "# Questão 2\r\n",
    "# Contando número de inversões\r\n",
    "\r\n",
    "\r\n",
    "def sortAndCount(arr, temp_arr, left, right):\r\n",
    "    temp_arr = [0]*n\r\n",
    "    inv_count = 0\r\n",
    "    \r\n",
    "    if left < right:\r\n",
    "        mid = (left + right)//2\r\n",
    "        \r\n",
    "        inv_count += sortAndCount(arr, temp_arr, left, mid)\r\n",
    "        \r\n",
    "        inv_count += sortAndCount(arr, temp_arr, mid + 1, right)\r\n",
    "        \r\n",
    "        inv_count += mergeAndCount(arr, temp_arr, left, mid, right)\r\n",
    "        \r\n",
    "    return inv_count"
   ],
   "outputs": [],
   "metadata": {}
  },
  {
   "cell_type": "code",
   "execution_count": 2,
   "source": [
    "def mergeAndCount(arr, temp_arr, left, mid, right):\r\n",
    "    i = left\r\n",
    "    j = mid + 1\r\n",
    "    k = left\r\n",
    "    inv_count = 0\r\n",
    "    \r\n",
    "    while i<= mid and j <= right:\r\n",
    "        if arr[i] <= arr[j]:\r\n",
    "            temp_arr[k] = arr[i]\r\n",
    "            k += 1\r\n",
    "            i += 1\r\n",
    "        \r\n",
    "        else:\r\n",
    "            temp_arr[k] = arr[j]\r\n",
    "            inv_count += (mid - i + 1)\r\n",
    "            k += 1\r\n",
    "            j += 1\r\n",
    "            \r\n",
    "    while i <= mid:\r\n",
    "        temp_arr[k] = arr[i]\r\n",
    "        k += 1\r\n",
    "        i += 1\r\n",
    "        \r\n",
    "    while j <= right:\r\n",
    "        temp_arr[k] = arr [j]\r\n",
    "        k += 1\r\n",
    "        j += 1\r\n",
    "        \r\n",
    "    for loop_var in range(left, right + 1):\r\n",
    "        arr[loop_var] = temp_arr[loop_var]\r\n",
    "        \r\n",
    "    return inv_count"
   ],
   "outputs": [],
   "metadata": {}
  },
  {
   "cell_type": "code",
   "execution_count": 3,
   "source": [
    "arr = [1, 20, 6, 4, 5, 0, 11, 2]\r\n",
    "n = len(arr)\r\n",
    "temp_arr = [0]*n\r\n",
    "\r\n",
    "result = sortAndCount(arr, temp_arr, 0, n-1)\r\n",
    "\r\n",
    "print(\"Inversões: \", result)"
   ],
   "outputs": [
    {
     "output_type": "stream",
     "name": "stdout",
     "text": [
      "Number of inversions are 16\n"
     ]
    }
   ],
   "metadata": {}
  }
 ],
 "metadata": {
  "kernelspec": {
   "display_name": "Python 3",
   "language": "python",
   "name": "python3"
  },
  "language_info": {
   "codemirror_mode": {
    "name": "ipython",
    "version": 3
   },
   "file_extension": ".py",
   "mimetype": "text/x-python",
   "name": "python",
   "nbconvert_exporter": "python",
   "pygments_lexer": "ipython3",
   "version": "3.8.5"
  }
 },
 "nbformat": 4,
 "nbformat_minor": 4
}