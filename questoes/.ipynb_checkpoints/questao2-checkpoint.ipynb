{
 "cells": [
  {
   "cell_type": "code",
   "execution_count": 1,
   "metadata": {},
   "outputs": [],
   "source": [
    "# Questão 2\n",
    "# Contando número de inversões\n",
    "\n",
    "\n",
    "def sortAndCount(arr, temp_arr, left, right):\n",
    "    temp_arr = [0]*n\n",
    "    inv_count = 0\n",
    "    \n",
    "    if left < right:\n",
    "        mid = (left + right)//2\n",
    "        \n",
    "        inv_count += sortAndCount(arr, temp_arr, left, mid)\n",
    "        \n",
    "        inv_count += sortAndCount(arr, temp_arr, mid + 1, right)\n",
    "        \n",
    "        inv_count += mergeAndCount(arr, temp_arr, left, mid, right)\n",
    "        \n",
    "    return inv_count"
   ]
  },
  {
   "cell_type": "code",
   "execution_count": 2,
   "metadata": {},
   "outputs": [],
   "source": [
    "def mergeAndCount(arr, temp_arr, left, mid, right):\n",
    "    i = left\n",
    "    j = mid + 1\n",
    "    k = left\n",
    "    inv_count = 0\n",
    "    \n",
    "    while i<= mid and j <= right:\n",
    "        if arr[i] <= arr[j]:\n",
    "            temp_arr[k] = arr[i]\n",
    "            k += 1\n",
    "            i += 1\n",
    "        \n",
    "        else:\n",
    "            temp_arr[k] = arr[j]\n",
    "            inv_count += (mid - i + 1)\n",
    "            k += 1\n",
    "            j += 1\n",
    "            \n",
    "    while i <= mid:\n",
    "        temp_arr[k] = arr[i]\n",
    "        k += 1\n",
    "        i += 1\n",
    "        \n",
    "    while j <= right:\n",
    "        temp_arr[k] = arr [j]\n",
    "        k += 1\n",
    "        j += 1\n",
    "        \n",
    "    for loop_var in range(left, right + 1):\n",
    "        arr[loop_var] = temp_arr[loop_var]\n",
    "        \n",
    "    return inv_count"
   ]
  },
  {
   "cell_type": "code",
   "execution_count": 3,
   "metadata": {},
   "outputs": [
    {
     "name": "stdout",
     "output_type": "stream",
     "text": [
      "Number of inversions are 16\n"
     ]
    }
   ],
   "source": [
    "arr = [1, 20, 6, 4, 5, 0, 11, 2]\n",
    "n = len(arr)\n",
    "temp_arr = [0]*n\n",
    "\n",
    "result = sortAndCount(arr, temp_arr, 0, n-1)\n",
    "\n",
    "print(\"Number of inversions are\", result)"
   ]
  }
 ],
 "metadata": {
  "kernelspec": {
   "display_name": "Python 3",
   "language": "python",
   "name": "python3"
  },
  "language_info": {
   "codemirror_mode": {
    "name": "ipython",
    "version": 3
   },
   "file_extension": ".py",
   "mimetype": "text/x-python",
   "name": "python",
   "nbconvert_exporter": "python",
   "pygments_lexer": "ipython3",
   "version": "3.8.5"
  }
 },
 "nbformat": 4,
 "nbformat_minor": 4
}
